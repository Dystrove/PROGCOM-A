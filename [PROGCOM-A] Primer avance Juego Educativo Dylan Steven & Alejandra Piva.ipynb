{
  "nbformat": 4,
  "nbformat_minor": 0,
  "metadata": {
    "colab": {
      "provenance": []
    },
    "kernelspec": {
      "name": "python3",
      "display_name": "Python 3"
    },
    "language_info": {
      "name": "python"
    }
  },
  "cells": [
    {
      "cell_type": "code",
      "execution_count": null,
      "metadata": {
        "id": "FzH1FmCEt9fk"
      },
      "outputs": [],
      "source": []
    },
    {
      "cell_type": "code",
      "source": [
        "import random\n",
        "\n",
        "animales = {\n",
        "    \"Perro\": \"guau\",\n",
        "    \"Gato\": \"miau\",\n",
        "    \"Vaca\": \"muu\"\n",
        "}\n",
        "\n",
        "def iniciar_juego():\n",
        "    while True:\n",
        "        animal, sonido_correcto = random.choice(list(animales.items()))\n",
        "        opciones = list(animales.values())\n",
        "        random.shuffle(opciones)\n",
        "\n",
        "        print(f\"¿Qué sonido hace el {animal}?\")\n",
        "        for i, opcion in enumerate(opciones, 1):\n",
        "            print(f\"{i}. {opcion}\")\n",
        "\n",
        "        respuesta = input(\"Elige un número (0 para salir): \")\n",
        "\n",
        "        if respuesta == \"0\":\n",
        "            print(\"Gracias por jugar. ¡Hasta pronto!\")\n",
        "            break\n",
        "        elif opciones[int(respuesta) - 1] == sonido_correcto:\n",
        "            print(\"¡Correcto!\")\n",
        "        else:\n",
        "            print(\"Incorrecto, intenta de nuevo.\")\n",
        "\n",
        "iniciar_juego()\n",
        "\n",
        "\n",
        "\n",
        "\n"
      ],
      "metadata": {
        "colab": {
          "base_uri": "https://localhost:8080/"
        },
        "id": "0gz5Qk9vt-SV",
        "outputId": "0f64fa29-b6a5-4fff-9c78-4774e890b42a"
      },
      "execution_count": null,
      "outputs": [
        {
          "output_type": "stream",
          "name": "stdout",
          "text": [
            "¿Qué sonido hace el Gato?\n",
            "1. guau\n",
            "2. miau\n",
            "3. muu\n",
            "Elige un número (0 para salir): 2\n",
            "¡Correcto!\n",
            "¿Qué sonido hace el Gato?\n",
            "1. guau\n",
            "2. muu\n",
            "3. miau\n",
            "Elige un número (0 para salir): 3\n",
            "¡Correcto!\n",
            "¿Qué sonido hace el Gato?\n",
            "1. guau\n",
            "2. miau\n",
            "3. muu\n",
            "Elige un número (0 para salir): 3\n",
            "Incorrecto, intenta de nuevo.\n",
            "¿Qué sonido hace el Perro?\n",
            "1. muu\n",
            "2. guau\n",
            "3. miau\n"
          ]
        }
      ]
    }
  ]
}
