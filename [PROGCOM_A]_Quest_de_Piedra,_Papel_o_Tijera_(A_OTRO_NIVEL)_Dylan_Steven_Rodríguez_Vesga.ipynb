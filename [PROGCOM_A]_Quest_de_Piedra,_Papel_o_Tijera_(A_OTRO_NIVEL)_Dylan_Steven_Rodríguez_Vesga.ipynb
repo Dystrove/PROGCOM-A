{
  "nbformat": 4,
  "nbformat_minor": 0,
  "metadata": {
    "colab": {
      "provenance": []
    },
    "kernelspec": {
      "name": "python3",
      "display_name": "Python 3"
    },
    "language_info": {
      "name": "python"
    }
  },
  "cells": [
    {
      "cell_type": "code",
      "source": [
        "import random\n",
        "\n",
        "def determinar_ganador(jugador, maquina):\n",
        "    reglas = {\n",
        "        \"piedra\": [\"tijeras\", \"lagarto\", \"fuego\"],\n",
        "        \"papel\": [\"piedra\", \"agua\", \"aire\"],\n",
        "        \"tijeras\": [\"papel\", \"lagarto\", \"aire\"],\n",
        "        \"spock\": [\"tijeras\", \"piedra\", \"rayo\"],\n",
        "        \"lagarto\": [\"spock\", \"papel\", \"agua\"],\n",
        "        \"fuego\": [\"papel\", \"lagarto\", \"aire\"],\n",
        "        \"agua\": [\"fuego\", \"piedra\", \"rayo\"],\n",
        "        \"aire\": [\"agua\", \"spock\", \"rayo\"],\n",
        "        \"rayo\": [\"tijeras\", \"fuego\", \"piedra\"]\n",
        "    }\n",
        "\n",
        "    if jugador == maquina:\n",
        "        return \"¡Empate!\"\n",
        "    elif maquina in reglas[jugador]:\n",
        "        return \"¡Ganaste! 😊\"\n",
        "    else:\n",
        "        return \"Perdiste... 😢\"\n",
        "\n",
        "# Opciones disponibles\n",
        "opciones = [\"piedra\", \"papel\", \"tijeras\", \"spock\", \"lagarto\", \"fuego\", \"agua\", \"aire\", \"rayo\"]\n",
        "\n",
        "# Entrada del jugador\n",
        "print(\"Elige una opción:\")\n",
        "print(\", \".join(opciones))\n",
        "jugador = input(\"Tu elección: \").strip().lower()\n",
        "\n",
        "# Validar entrada\n",
        "if jugador not in opciones:\n",
        "    print(\"Opción no válida. Intenta de nuevo.\")\n",
        "else:\n",
        "    # Elección de la máquina\n",
        "    maquina = random.choice(opciones)\n",
        "    print(f\"La máquina eligió: {maquina}\")\n",
        "\n",
        "    # Determinar resultado\n",
        "    resultado = determinar_ganador(jugador, maquina)\n",
        "    print(resultado)"
      ],
      "metadata": {
        "id": "iYLe6tyRt89Y",
        "colab": {
          "base_uri": "https://localhost:8080/"
        },
        "outputId": "d92303d8-9bd7-405c-ad8a-b4733e2aceca"
      },
      "execution_count": 3,
      "outputs": [
        {
          "output_type": "stream",
          "name": "stdout",
          "text": [
            "Elige una opción:\n",
            "piedra, papel, tijeras, spock, lagarto, fuego, agua, aire, rayo\n",
            "Tu elección: spock\n",
            "La máquina eligió: aire\n",
            "Perdiste...\n"
          ]
        }
      ]
    }
  ]
}