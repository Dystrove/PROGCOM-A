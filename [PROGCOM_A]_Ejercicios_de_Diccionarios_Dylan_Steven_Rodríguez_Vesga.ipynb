{
  "nbformat": 4,
  "nbformat_minor": 0,
  "metadata": {
    "colab": {
      "provenance": []
    },
    "kernelspec": {
      "name": "python3",
      "display_name": "Python 3"
    },
    "language_info": {
      "name": "python"
    }
  },
  "cells": [
    {
      "cell_type": "markdown",
      "source": [
        "Taller de Clase: Diccionarios | Dylan Steven Rodríguez Vesga (U00182007)\n"
      ],
      "metadata": {
        "id": "5XqTUikQJLMO"
      }
    },
    {
      "cell_type": "markdown",
      "source": [
        "<font color=\"red\">- Responder:</font> **Cómo podría imprimirse únicamente el nombre de Diana Prince?**\n",
        "\n",
        "\n",
        "\n",
        "![image.png](data:image/png;base64,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)"
      ],
      "metadata": {
        "id": "YC4ROX0vJubN"
      }
    },
    {
      "cell_type": "code",
      "source": [
        "#Ejemplo\n",
        "#Tenemos un diccionario de superhéroes, en donde muestra su personalidad secreta y su nombre\n",
        "#de superhéroe\n",
        "heroes={\"Nombres\":[\"Clark Ken\", \"Diana Prince\",\"Bruce Wayne\"],\n",
        "        \"Superhéroe\":[\"Superman\",\"Mujer maravilla\",\"Batman\"]}\n",
        "print(heroes[\"Nombres\"][1])"
      ],
      "metadata": {
        "colab": {
          "base_uri": "https://localhost:8080/"
        },
        "id": "Jk7vduw-JL1H",
        "outputId": "24c28c69-5439-477b-aa52-7805b56016c1"
      },
      "execution_count": 15,
      "outputs": [
        {
          "output_type": "stream",
          "name": "stdout",
          "text": [
            "Diana Prince\n"
          ]
        }
      ]
    },
    {
      "cell_type": "code",
      "source": [
        "#Cómo podría imprimirse únicamente el nombre de Diana Prince?\n",
        "Solo sería imprimir el segundo elemento de la lista, en este caso es \"Diana Princ\", y nosotros conocemos que en Python las listas empiezan con un indice en 0 (\"Clark Ken\") y luego en 1 (\"Diana Prince\")"
      ],
      "metadata": {
        "id": "sfCqDJn8LkpJ"
      },
      "execution_count": null,
      "outputs": []
    },
    {
      "cell_type": "code",
      "source": [
        "heroes={\"Nombres\":[\"Clark Ken\", \"Diana Prince\",\"Bruce Wayne\"],\n",
        "        \"Superhéroe\":[\"Superman\",\"Mujer maravilla\",\"Batman\"],\n",
        "        \"Nombres\":[\"Jhon Wilson\", \"Constantine\"]}\n",
        "heroes[\"Nombres\"]"
      ],
      "metadata": {
        "id": "8IxAfp2PJMyA"
      },
      "execution_count": null,
      "outputs": []
    },
    {
      "cell_type": "code",
      "source": [
        "#Podrías explicar este error?\n",
        "## Simplemente estaba mal puesto la variable de \"Nombres\" por una sola letra en minúscula, entonces lo que bota el error es que no está definida esa variable.\n",
        "heroes[\"Nombres\"]"
      ],
      "metadata": {
        "colab": {
          "base_uri": "https://localhost:8080/"
        },
        "id": "T61b339VN0g2",
        "outputId": "c0c06959-7a0d-4e91-ef28-8b5364ce00fd"
      },
      "execution_count": 18,
      "outputs": [
        {
          "output_type": "execute_result",
          "data": {
            "text/plain": [
              "['Clark Ken', 'Diana Prince', 'Bruce Wayne']"
            ]
          },
          "metadata": {},
          "execution_count": 18
        }
      ]
    },
    {
      "cell_type": "code",
      "source": [
        "#Para imprimir las llaves del diccionario\n",
        "for key in heroes:\n",
        "  print(key)\n",
        "#para imprimir sólo los valores\n",
        "for valor in heroes:\n",
        "  print(heroes[valor])\n",
        "  #También podría hacerse de la siguiente manera:\n",
        "for valor in heroes.values():\n",
        "  print(valor)\n",
        "  #Ahora, si se desea imprimir la llave y su valor a la vez\n",
        "for x,y in heroes.items():\n",
        "  print(x,y)\n",
        "  #Suma 1 a cada valor del diccionario, si no hay un int lanzará error\n",
        "D = {\"valor1\":1, \"valor2\": 2}\n",
        "for key in D.keys():\n",
        "  D[key] += 1\n",
        "\n",
        "print(D)\n",
        "anidado1 = {\"a\": 1, \"b\": 2}\n",
        "anidado2 = {\"a\": 1, \"b\": 2}\n",
        "d = {\n",
        "  \"anidado1\" : anidado1,\n",
        "  \"anidado2\" : anidado2\n",
        "}\n",
        "print(d)\n",
        "#Cómo se podría obtener el valor de la clave b de anidado 2?\n",
        "\n",
        "valorb = d [\"anidado2\"][\"b\"];\n",
        "print(valorb)"
      ],
      "metadata": {
        "colab": {
          "base_uri": "https://localhost:8080/"
        },
        "id": "Nc7Ek01yRASk",
        "outputId": "1cdb8c0b-07a1-4d50-cee9-594383ad4ca1"
      },
      "execution_count": 35,
      "outputs": [
        {
          "output_type": "stream",
          "name": "stdout",
          "text": [
            "Nombres\n",
            "Superhéroe\n",
            "['Clark Ken', 'Diana Prince', 'Bruce Wayne']\n",
            "['Superman', 'Mujer maravilla', 'Batman']\n",
            "['Clark Ken', 'Diana Prince', 'Bruce Wayne']\n",
            "['Superman', 'Mujer maravilla', 'Batman']\n",
            "Nombres ['Clark Ken', 'Diana Prince', 'Bruce Wayne']\n",
            "Superhéroe ['Superman', 'Mujer maravilla', 'Batman']\n",
            "{'valor1': 2, 'valor2': 3}\n",
            "{'anidado1': {'a': 1, 'b': 2}, 'anidado2': {'a': 1, 'b': 2}}\n",
            "2\n"
          ]
        }
      ]
    },
    {
      "cell_type": "markdown",
      "source": [
        "**Ejercicios**\n",
        "Generar los siguientes diccionarios:\n",
        "\n",
        "- Un diccionario que almacena n nombres de usuarios, sus alturas, pesos, IMC y descripción\n",
        "\n",
        "- Un diccionario que almacena n códigos, sus respectivas 5 notas y su promedio\n",
        "\n",
        "- Un diccionario que almacena n códigos de productos de una tienda, sus respectivos precios y su % de descuento"
      ],
      "metadata": {
        "id": "YvukuRaLOh_o"
      }
    },
    {
      "cell_type": "code",
      "source": [],
      "metadata": {
        "id": "dVwpDvPhOpJ-"
      },
      "execution_count": null,
      "outputs": []
    }
  ]
}