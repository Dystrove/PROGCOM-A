{
  "cells": [
    {
      "cell_type": "markdown",
      "id": "b8aced19",
      "metadata": {
        "id": "b8aced19"
      },
      "source": [
        "**Taller Final:** Encapsulamiento en Python - Dylan Steven Rodríguez Vesga (**U00182007**):"
      ]
    },
    {
      "cell_type": "markdown",
      "id": "78e0efee",
      "metadata": {
        "id": "78e0efee"
      },
      "source": [
        "### 1. CuentaBancaria"
      ]
    },
    {
      "cell_type": "code",
      "execution_count": null,
      "id": "37305e92",
      "metadata": {
        "id": "37305e92"
      },
      "outputs": [],
      "source": [
        "class CuentaBancaria:\n",
        "    def __init__(self, saldo):\n",
        "        self.__saldo = saldo\n",
        "\n",
        "    def depositar(self, monto):\n",
        "        if monto > 0:\n",
        "            self.__saldo += monto\n",
        "\n",
        "    def saldo(self):\n",
        "        return self.__saldo"
      ]
    },
    {
      "cell_type": "markdown",
      "id": "a5af1e00",
      "metadata": {
        "id": "a5af1e00"
      },
      "source": [
        "### 2. Alumno"
      ]
    },
    {
      "cell_type": "code",
      "execution_count": null,
      "id": "ded0230a",
      "metadata": {
        "id": "ded0230a"
      },
      "outputs": [],
      "source": [
        "class Alumno:\n",
        "    def __init__(self):\n",
        "        self.__nota = 0\n",
        "\n",
        "    def asignar(self, valor):\n",
        "        if 0 <= valor <= 10:\n",
        "            self.__nota = valor\n",
        "\n",
        "    def obtener(self):\n",
        "        return self.__nota"
      ]
    },
    {
      "cell_type": "markdown",
      "id": "5799891e",
      "metadata": {
        "id": "5799891e"
      },
      "source": [
        "### 3. Producto"
      ]
    },
    {
      "cell_type": "code",
      "execution_count": null,
      "id": "b5b177f0",
      "metadata": {
        "id": "b5b177f0"
      },
      "outputs": [],
      "source": [
        "class Producto:\n",
        "    def __init__(self):\n",
        "        self.__precio = 1\n",
        "\n",
        "    def fijar(self, valor):\n",
        "        if valor >= 1:\n",
        "            self.__precio = valor\n",
        "\n",
        "    def ver(self):\n",
        "        return self.__precio"
      ]
    },
    {
      "cell_type": "markdown",
      "id": "d6a94e0a",
      "metadata": {
        "id": "d6a94e0a"
      },
      "source": [
        "### 4. Persona"
      ]
    },
    {
      "cell_type": "code",
      "execution_count": null,
      "id": "62f5b954",
      "metadata": {
        "id": "62f5b954"
      },
      "outputs": [],
      "source": [
        "class Persona:\n",
        "    def __init__(self, nombre):\n",
        "        self.__nombre = nombre\n",
        "\n",
        "    def nombre(self):\n",
        "        return self.__nombre"
      ]
    },
    {
      "cell_type": "markdown",
      "id": "f6ee4cb7",
      "metadata": {
        "id": "f6ee4cb7"
      },
      "source": [
        "### 5. Temperatura"
      ]
    },
    {
      "cell_type": "code",
      "execution_count": null,
      "id": "9495629d",
      "metadata": {
        "id": "9495629d"
      },
      "outputs": [],
      "source": [
        "class Temperatura:\n",
        "    def __init__(self, c):\n",
        "        self.__c = c\n",
        "\n",
        "    def fahrenheit(self):\n",
        "        return (self.__c * 9/5) + 32"
      ]
    },
    {
      "cell_type": "markdown",
      "id": "ecce1b97",
      "metadata": {
        "id": "ecce1b97"
      },
      "source": [
        "### 6. Auto"
      ]
    },
    {
      "cell_type": "code",
      "execution_count": null,
      "id": "08da30dc",
      "metadata": {
        "id": "08da30dc"
      },
      "outputs": [],
      "source": [
        "class Auto:\n",
        "    def __init__(self):\n",
        "        self.__vel = 0\n",
        "\n",
        "    def set_vel(self, v):\n",
        "        if v <= 200:\n",
        "            self.__vel = v\n",
        "\n",
        "    def get_vel(self):\n",
        "        return self.__vel"
      ]
    },
    {
      "cell_type": "markdown",
      "id": "f53be75c",
      "metadata": {
        "id": "f53be75c"
      },
      "source": [
        "### 7. Libro"
      ]
    },
    {
      "cell_type": "code",
      "execution_count": null,
      "id": "5e5ddd67",
      "metadata": {
        "id": "5e5ddd67"
      },
      "outputs": [],
      "source": [
        "class Libro:\n",
        "    def __init__(self, titulo, autor):\n",
        "        self.__titulo = titulo\n",
        "        self.__autor = autor\n",
        "\n",
        "    def titulo(self):\n",
        "        return self.__titulo\n",
        "\n",
        "    def autor(self):\n",
        "        return self.__autor"
      ]
    },
    {
      "cell_type": "markdown",
      "id": "5618765e",
      "metadata": {
        "id": "5618765e"
      },
      "source": [
        "### 8. CajaFuerte"
      ]
    },
    {
      "cell_type": "code",
      "execution_count": null,
      "id": "085c8970",
      "metadata": {
        "id": "085c8970"
      },
      "outputs": [],
      "source": [
        "class CajaFuerte:\n",
        "    def __init__(self, clave):\n",
        "        self.__clave = clave\n",
        "\n",
        "    def verificar(self, intento):\n",
        "        return intento == self.__clave"
      ]
    },
    {
      "cell_type": "markdown",
      "id": "e90d797d",
      "metadata": {
        "id": "e90d797d"
      },
      "source": [
        "### 9. Rectangulo"
      ]
    },
    {
      "cell_type": "code",
      "execution_count": null,
      "id": "f0871326",
      "metadata": {
        "id": "f0871326"
      },
      "outputs": [],
      "source": [
        "class Rectangulo:\n",
        "    def __init__(self, base, altura):\n",
        "        self.__base = base\n",
        "        self.__altura = altura\n",
        "\n",
        "    def area(self):\n",
        "        return self.__base * self.__altura"
      ]
    },
    {
      "cell_type": "markdown",
      "id": "3b783c57",
      "metadata": {
        "id": "3b783c57"
      },
      "source": [
        "### 10. Estudiante"
      ]
    },
    {
      "cell_type": "code",
      "execution_count": null,
      "id": "9307a95a",
      "metadata": {
        "id": "9307a95a"
      },
      "outputs": [],
      "source": [
        "class Estudiante:\n",
        "    def __init__(self, nombre, promedio):\n",
        "        self.__nombre = nombre\n",
        "        self.__prom = promedio\n",
        "\n",
        "    def promedio(self):\n",
        "        return self.__prom"
      ]
    }
  ],
  "metadata": {
    "colab": {
      "provenance": []
    }
  },
  "nbformat": 4,
  "nbformat_minor": 5
}