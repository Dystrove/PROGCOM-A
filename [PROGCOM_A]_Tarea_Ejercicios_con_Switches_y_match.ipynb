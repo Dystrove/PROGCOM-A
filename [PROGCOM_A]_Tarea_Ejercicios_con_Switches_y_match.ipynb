{
  "nbformat": 4,
  "nbformat_minor": 0,
  "metadata": {
    "colab": {
      "provenance": []
    },
    "kernelspec": {
      "name": "python3",
      "display_name": "Python 3"
    },
    "language_info": {
      "name": "python"
    }
  },
  "cells": [
    {
      "cell_type": "markdown",
      "source": [
        "**Dylan Steven Rodríguez Vesga - Ejercicios con Switches y match**\n",
        "\n",
        "\n",
        "---\n",
        "\n",
        "\n",
        "\n",
        "\n",
        "\n"
      ],
      "metadata": {
        "id": "QamQyEuPhFPj"
      }
    },
    {
      "cell_type": "code",
      "execution_count": null,
      "metadata": {
        "id": "WYDxBchwg16-"
      },
      "outputs": [],
      "source": [
        "# Ejercicio 6: Desarrolla un programa que determine si un número es par o impar.\n",
        "num= int(input(\"Ingresar un número: \"))\n",
        "\n",
        "if num % 2 == 0:\n",
        "    print(f\"El número {num} es par.\")\n",
        "elif num % 2 != 0:\n",
        "    print(f\"El número {num} es impar.\")\n",
        "else:\n",
        "    print(\"Ocurrió un problema...\")\n",
        "\n"
      ]
    },
    {
      "cell_type": "code",
      "source": [
        "# Ejercicio 6.1: Desarrolla un programa que determine si un número es par o impar. - [CON MATCH]\n",
        "\n",
        "num= int(input(\"Ingresar un número: \"))\n",
        "\n",
        "match num % 2:\n",
        "    case 0:\n",
        "        print(f\"El número {num} es par.\")\n",
        "    case 1:\n",
        "        print(f\"El número {num} es impar.\")"
      ],
      "metadata": {
        "id": "d8Qy5d2w_SVi"
      },
      "execution_count": null,
      "outputs": []
    },
    {
      "cell_type": "code",
      "source": [
        "# Ejercico 7: Crea un programa que determine si un año es bisiesto (divisible por 4 y no por 100, o divisible por 400).\n",
        "año = int(input(\"Ingrese un año: \"))\n",
        "if (año % 4 == 0 and año % 100 != 0) or (año % 400 == 0):\n",
        "    print(f\"El año {año} es bisiesto.\")\n",
        "else:\n",
        "    print(f\"El año {año} no es bisiesto.\")"
      ],
      "metadata": {
        "id": "rcwmOkNOh9us"
      },
      "execution_count": null,
      "outputs": []
    },
    {
      "cell_type": "code",
      "source": [
        "# Ejercico 7.1: Crea un programa que determine si un año es bisiesto (divisible por 4 y no por 100, o divisible por 400). - [CON MATCH]\n",
        "año = int(input(\"Ingresar un año: \"))\n",
        "\n",
        "match (año % 4 == 0, año % 100 != 0, año % 400 == 0):\n",
        "    case (True, True, _):\n",
        "        print(f\"El año {año} es bisiesto.\")\n",
        "    case (_, _, True):\n",
        "        print(f\"El año {año} es bisiesto.\")\n",
        "    case _:\n",
        "        print(f\"El año {año} no es bisiesto.\")"
      ],
      "metadata": {
        "id": "aS0qNNnu_uEp"
      },
      "execution_count": null,
      "outputs": []
    },
    {
      "cell_type": "code",
      "source": [
        "# Ejercicio 8:  Escribe un programa que solicite el nombre del usuario y determine si una persona pertenece a la tercera edad (70 años o más) y si se cumple la condición, imprima que se le da prioridad en la fila.\n",
        "n = input('Ingresar tu nombre: ')\n",
        "e = int(input('Ingresar tu edad: '))\n",
        "\n",
        "if e >= 70:\n",
        "    print(f'{n}, tiene prioridad en la fila.')\n",
        "else:\n",
        "    print(f'{n}, no tiene prioridad en la fila.')"
      ],
      "metadata": {
        "id": "JHagCeJTiTnM"
      },
      "execution_count": null,
      "outputs": []
    },
    {
      "cell_type": "code",
      "source": [
        "# Ejercicio 8.1:  Escribe un programa que solicite el nombre del usuario y determine si una persona pertenece a la tercera edad (70 años o más) y si se cumple la condición, imprima que se le da prioridad en la fila. - [CON MATCH]\n",
        "nombre = input(\"Ingrese su nombre: \")\n",
        "\n",
        "edad = int(input(\"Ingrese su edad: \"))\n",
        "\n",
        "match True:\n",
        "    case _ if edad >= 70:\n",
        "        print(f\"{nombre}, usted tendrá prioridad en la fila por tener debida edad.\")\n",
        "    case _:\n",
        "        print(f\"{nombre}, usted no tendrá prioridad en la fila.\")"
      ],
      "metadata": {
        "id": "qlEv_mzA_99q"
      },
      "execution_count": null,
      "outputs": []
    },
    {
      "cell_type": "code",
      "source": [
        "# Ejercicio 9: Desarrolla un programa que compare tres números y muestre el mayor.\n",
        "n1 = float(input('Ingresar el primer número: '))\n",
        "n2 = float(input('Ingresar el segundo número: '))\n",
        "n3 = float(input('Ingresar el tercer número: '))\n",
        "\n",
        "if n1 > n2 and n1 > n3:\n",
        "    print(f'El número mayor es {n1}')\n",
        "elif n2 > n1 and n2 > n3:\n",
        "    print(f'El número mayor es {n2}')\n",
        "elif n3 > n1 and n3 > n2:\n",
        "    print(f'El número mayor es {n3}')\n"
      ],
      "metadata": {
        "id": "iW7sQ5V8ixVa"
      },
      "execution_count": null,
      "outputs": []
    },
    {
      "cell_type": "code",
      "source": [
        "# Ejercicio 9.1: Desarrolla un programa que compare tres números y muestre el mayor.- [CON MATCH]\n",
        "n1 = int(input(\"Ingresar el primer número: \"))\n",
        "n2 = int(input(\"Ingresar el segundo número: \"))\n",
        "n3 = int(input(\"Ingresar el tercer número: \"))\n",
        "\n",
        "match True:\n",
        "    case _ if n1 >= n2 and n1 >= n3:\n",
        "        print(f\"El mayor número es {n1}.\")\n",
        "    case _ if n2 >= n1 and n2 >= n3:\n",
        "        print(f\"El mayor número es {n2}.\")\n",
        "    case _:\n",
        "        print(f\"El mayor número es {n3}.\")"
      ],
      "metadata": {
        "id": "hIStFg-AAPkD"
      },
      "execution_count": null,
      "outputs": []
    },
    {
      "cell_type": "code",
      "source": [
        "# Ejercicio 10: Crea un programa que determine si un triángulo es equilátero, isósceles o escaleno según sus lados.\n",
        "l1 = float(input('Ingresar el primer lado: '))\n",
        "l2 = float(input('Ingresar el segundo lado: '))\n",
        "l3 = float(input('Ingresar el tercer lado: '))\n",
        "\n",
        "if l1 == l2 == l3:\n",
        "    print(f'El triángulo con lados {l1}, {l2} y {l3} equilátero.')\n",
        "elif l1 == l2 or lado1 == l3 or l2 == l3:\n",
        "    print(f'El triángulo con lados {l1}, {l2} y {l3}  isósceles.')\n",
        "else:\n",
        "    print(f'El triángulo con lados {l1}, {l2} y {l3} escaleno.')"
      ],
      "metadata": {
        "id": "tKMAnUaGjq2O"
      },
      "execution_count": null,
      "outputs": []
    },
    {
      "cell_type": "code",
      "source": [
        "# Ejercicio 10.1: Crea un programa que determine si un triángulo es equilátero, isósceles o escaleno según sus lados. - [CON MATCH]\n",
        "l1 = float(input(\"Ingresar la longitud del primer lado: \"))\n",
        "l2 = float(input(\"Ingresar la longitud del segundo lado: \"))\n",
        "l3 = float(input(\"Ingresar la longitud del tercer lado: \"))\n",
        "\n",
        "match (l1 <= 0 or l2 <= 0 or l3 <= 0, l1 + l2 <= l3 or l1 + l3 <= l2 or l2 + l3 <= l1):\n",
        "    case (True, _):\n",
        "        print(\"Las longitudes de los lados deben ser mayores de cero.\")\n",
        "    case (_, True):\n",
        "        print(\"Los lados ingresados no crean un triángulo correcto.\")\n",
        "    case (False, False):\n",
        "        match (l1, l2, l3):\n",
        "            case (a, b, c) if a == b == c:\n",
        "                print(\"El triángulo es equilátero.\")\n",
        "            case (a, b, c) if a == b or b == c or a == c:\n",
        "                print(\"El triángulo es isósceles.\")\n",
        "            case (a, b, c):\n",
        "                print(\"El triángulo es escaleno.\")"
      ],
      "metadata": {
        "id": "2Tbgo8WJArUh"
      },
      "execution_count": null,
      "outputs": []
    }
  ]
}