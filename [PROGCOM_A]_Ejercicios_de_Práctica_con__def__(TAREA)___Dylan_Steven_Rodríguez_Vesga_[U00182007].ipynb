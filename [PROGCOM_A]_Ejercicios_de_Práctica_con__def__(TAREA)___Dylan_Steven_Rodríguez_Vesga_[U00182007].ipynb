{
  "nbformat": 4,
  "nbformat_minor": 0,
  "metadata": {
    "colab": {
      "provenance": []
    },
    "kernelspec": {
      "name": "python3",
      "display_name": "Python 3"
    },
    "language_info": {
      "name": "python"
    }
  },
  "cells": [
    {
      "cell_type": "markdown",
      "source": [
        "**Ejercicios con \"def\"** - Puntos del 6 al 20.\n",
        "\n",
        "---\n",
        "\n",
        "Dylan Steven Rodríguez Vesga [U00182007]"
      ],
      "metadata": {
        "id": "UtqjBq3-ar6T"
      }
    },
    {
      "cell_type": "code",
      "source": [
        "# Ejercicio 6: Desarrolla un programa que determine si un número es par o impar.\n",
        "\n",
        "def par(n):\n",
        "    if n % 2 == 0:\n",
        "        print(\"Su número es par.\")\n",
        "    else:\n",
        "        print(\"Su número es impar.\")\n",
        "\n",
        "n = int(input(\"Digite el número: \"))\n",
        "par(n)\n"
      ],
      "metadata": {
        "colab": {
          "base_uri": "https://localhost:8080/"
        },
        "id": "wu86SuWRQBiS",
        "outputId": "06e61e46-cd14-4ca1-d722-a799d535afd2"
      },
      "execution_count": null,
      "outputs": [
        {
          "output_type": "stream",
          "name": "stdout",
          "text": [
            "Digite el número: 2\n",
            "Su número es par.\n"
          ]
        }
      ]
    },
    {
      "cell_type": "code",
      "source": [
        "# Ejercicio 7: Crea un programa que determine si un año es bisiesto (divisible por 4 y no por 100, o divisible por 400).\n",
        "print('el año es bisiestro?')\n",
        "def bisiesto(año):\n",
        "    if (año % 4 == 0 and año % 100 != 0) or (año % 400 == 0):\n",
        "        print(\"El año es bisiesto.\")\n",
        "    else:\n",
        "        print(\"El año no es bisiesto.\")\n",
        "\n",
        "año = int(input(\"Digite el año: \"))\n",
        "bisiesto(año)\n"
      ],
      "metadata": {
        "colab": {
          "base_uri": "https://localhost:8080/"
        },
        "id": "ReBQg2ePQN2U",
        "outputId": "0639d602-1614-4edf-973d-1982ac13ffc2"
      },
      "execution_count": null,
      "outputs": [
        {
          "output_type": "stream",
          "name": "stdout",
          "text": [
            "el año es bisiestro?\n",
            "Digite el año: 9\n",
            "El año no es bisiesto.\n"
          ]
        }
      ]
    },
    {
      "cell_type": "code",
      "source": [
        "# Ejercicio 8: Escribe un programa que solicite el nombre del usuario y determine si una persona pertenece a la tercera edad (70 años o más) y si se cumple la condición, imprima que se le da prioridad en la fila.\n",
        "print('¿Quién tiene prioridad en la fila?')\n",
        "def tedad(nombre, edad):\n",
        "    if edad >= 70:\n",
        "        print(nombre, \"tiene prioridad en la fila.\")\n",
        "    else:\n",
        "        print(nombre, \"no tiene prioridad en la fila.\")\n",
        "\n",
        "nombre = input(\"Ingresar su nombre: \")\n",
        "edad = int(input(\"Ingresar su edad: \"))\n",
        "tedad(nombre, edad)\n"
      ],
      "metadata": {
        "colab": {
          "base_uri": "https://localhost:8080/"
        },
        "id": "Hm-HeKEjQrXw",
        "outputId": "84e3a07a-9598-4f89-e3be-88caadae2d81"
      },
      "execution_count": null,
      "outputs": [
        {
          "output_type": "stream",
          "name": "stdout",
          "text": [
            "quien tiene la prioridad en la fila?\n",
            "Digite su nombre: alejandra\n",
            "Digite su edad: 12\n",
            "alejandra no tiene prioridad en la fila.\n"
          ]
        }
      ]
    },
    {
      "cell_type": "code",
      "source": [
        "# Ejercicio 9: Desarrolla un programa que compare tres números y muestre el mayor.\n",
        "\n",
        "def mayor(a, b, c):\n",
        "    if a >= b and a >= c:\n",
        "        mayor = a\n",
        "    elif b >= a and b >= c:\n",
        "        mayor = b\n",
        "    else:\n",
        "        mayor = c\n",
        "\n",
        "    print(\"El número mayor es:\", mayor)\n",
        "\n",
        "a = int(input(\"Primer número: \"))\n",
        "b = int(input(\"Segundo número: \"))\n",
        "c = int(input(\"Tercer número: \"))\n",
        "mayor(a, b, c)\n"
      ],
      "metadata": {
        "colab": {
          "base_uri": "https://localhost:8080/"
        },
        "id": "z3SiEn-3Q_U1",
        "outputId": "26e7021e-701a-4637-d9a0-bd85f00351f9"
      },
      "execution_count": null,
      "outputs": [
        {
          "output_type": "stream",
          "name": "stdout",
          "text": [
            "Primer número: 8\n",
            "Segundo número: 7\n",
            "Tercer número: 6\n",
            "El número mayor es: 8\n"
          ]
        }
      ]
    },
    {
      "cell_type": "code",
      "source": [
        "# Ejercicio 10: Crea un programa que determine si un triángulo es equilátero, isósceles o escaleno según sus lados.\n",
        "\n",
        "\n",
        "def triangulo(a, b, c):\n",
        "    if a == b == c:\n",
        "        print(\"Es un triángulo equilátero\")\n",
        "    elif a == b or a == c or b == c:\n",
        "        print(\"Es un triángulo isósceles\")\n",
        "    else:\n",
        "        print(\"Es un triángulo escaleno\")\n",
        "\n",
        "a = int(input(\"Lado 1: \"))\n",
        "b = int(input(\"Lado 2: \"))\n",
        "c = int(input(\"Lado 3: \"))\n",
        "triangulo(a, b, c)\n"
      ],
      "metadata": {
        "colab": {
          "base_uri": "https://localhost:8080/"
        },
        "id": "a-fuCN1ESEtl",
        "outputId": "e6c269b0-55e2-4a61-dfab-6341e51f36d1"
      },
      "execution_count": null,
      "outputs": [
        {
          "output_type": "stream",
          "name": "stdout",
          "text": [
            "Lado 1: 8\n",
            "Lado 2: 8\n",
            "Lado 3: 8\n",
            "Es un triángulo equilátero.\n"
          ]
        }
      ]
    },
    {
      "cell_type": "code",
      "source": [
        "# Ejercicio 11: Escribe un programa que calcule el índice de masa corporal (IMC) y determine la categoría (bajo peso, normal, sobrepeso, obesidad). Al final, el programa debe imprimir: el nombre del usuario, su categoría y una breve descripción de lo que debe hacer de acuerdo a su categoría.\n",
        "\n",
        "def imc(nombre, peso, altura):\n",
        "    imc = peso / (altura ** 2)\n",
        "\n",
        "    if imc < 18.5:\n",
        "        c = \"Bajo peso\"\n",
        "\n",
        "    elif imc < 25:\n",
        "        c = \"Peso normal\"\n",
        "\n",
        "    elif imc < 30:\n",
        "        c= \"Sobrepeso\"\n",
        "\n",
        "    else:\n",
        "        c = \"Obesidad\"\n",
        "\n",
        "\n",
        "    print(nombre, \"tiene un IMC de\", c)\n",
        "\n",
        "nombre = input(\"Nombre: \")\n",
        "peso = float(input(\"Peso en kg: \"))\n",
        "altura = float(input(\"Altura en metros: \"))\n",
        "imc(nombre, peso, altura)\n"
      ],
      "metadata": {
        "colab": {
          "base_uri": "https://localhost:8080/"
        },
        "id": "UiCaPA4_SWHE",
        "outputId": "8279168c-500e-4242-d031-eac0f687db9a"
      },
      "execution_count": null,
      "outputs": [
        {
          "output_type": "stream",
          "name": "stdout",
          "text": [
            "Nombre: alejan\n",
            "Peso en kg: 45\n",
            "Altura en metros: 1.68\n",
            "alejan tiene un IMC de Bajo peso\n"
          ]
        }
      ]
    },
    {
      "cell_type": "code",
      "source": [
        "# Ejercicio 12: Desarrolla un programa que simule una calculadora simple (+, -, *, /) con dos números.\n",
        "def calculadora():\n",
        "    n1 = float(input(\"Ingresar el primer número: \"))\n",
        "    n2 = float(input(\"Ingresar el segundo número: \"))\n",
        "    op = input(\"Escribe la operación (+, -, *, /): \")\n",
        "\n",
        "    if op == \"+\":\n",
        "        print(\"Resultado:\", n1 + n2)\n",
        "    elif op == \"-\":\n",
        "        print(\"Resultado:\", n1 - n2)\n",
        "    elif op == \"*\":\n",
        "        print(\"Resultado:\", n1 * n2)\n",
        "    elif op == \"/\":\n",
        "        if n2 == 0:\n",
        "            print(\"No se puede dividir por cero. \")\n",
        "        else:\n",
        "            print(\"Resultado: \", n1 / n2)\n",
        "    else:\n",
        "        print(\"Operación no válida. \")\n",
        "\n",
        "calculadora()\n",
        "\n",
        "\n"
      ],
      "metadata": {
        "id": "LpWrs_TdTBga"
      },
      "execution_count": null,
      "outputs": []
    },
    {
      "cell_type": "code",
      "source": [
        "# Ejercicio 13: Crea un programa que determine la calificación en letras (A, B, C, D, F) según una nota numérica (0-100).\n",
        "def calificacion(nota):\n",
        "    if nota >= 90:\n",
        "        print(\"Calificación: A\")\n",
        "    elif nota >= 80:\n",
        "        print(\"Calificación: B\")\n",
        "    elif nota >= 70:\n",
        "        print(\"Calificación: C\")\n",
        "    elif nota >= 60:\n",
        "        print(\"Calificación: D\")\n",
        "    else:\n",
        "        print(\"Calificación: F\")\n",
        "\n",
        "nota = int(input(\"Ingresar la nota (0-100): \"))\n",
        "calificacion(nota)\n"
      ],
      "metadata": {
        "colab": {
          "base_uri": "https://localhost:8080/"
        },
        "id": "YOSJ-dmsUvyx",
        "outputId": "58b023db-9fe5-4e90-d7d9-4da58c855d32"
      },
      "execution_count": null,
      "outputs": [
        {
          "output_type": "stream",
          "name": "stdout",
          "text": [
            "Digite la nota (0-100): 0\n",
            "Calificación: F\n"
          ]
        }
      ]
    },
    {
      "cell_type": "code",
      "source": [
        "# Ejercicio 14: Escribe un programa que determine el día de la semana según un número (1-7).\n",
        "def dias(numero):\n",
        "    if numero == 1:\n",
        "        print(\"El día es: Lunes\")\n",
        "        return\n",
        "    if numero == 2:\n",
        "        print(\"El día es: Martes\")\n",
        "        return\n",
        "    if numero == 3:\n",
        "        print(\"El día es: Miércoles\")\n",
        "        return\n",
        "    if numero == 4:\n",
        "        print(\"El día es: Jueves\")\n",
        "        return\n",
        "    if numero == 5:\n",
        "        print(\"El día es: Viernes\")\n",
        "        return\n",
        "    if numero == 6:\n",
        "        print(\"El día es: Sábado\")\n",
        "        return\n",
        "    if numero == 7:\n",
        "        print(\"El día es: Domingo\")\n",
        "        return\n",
        "\n",
        "    print(\"Número no válido.\")\n",
        "\n",
        "numero = int(input(\"Digite un número (1-7): \"))\n",
        "dias(numero)\n"
      ],
      "metadata": {
        "colab": {
          "base_uri": "https://localhost:8080/"
        },
        "id": "OhMNWoxNVOBB",
        "outputId": "c89ede81-2676-4597-c57a-1d4844dddbab"
      },
      "execution_count": null,
      "outputs": [
        {
          "output_type": "stream",
          "name": "stdout",
          "text": [
            "Digite un número (1-7): 5\n",
            "El día es: Viernes\n"
          ]
        }
      ]
    },
    {
      "cell_type": "code",
      "source": [
        "# Ejercico 15: Desarrolla un programa que valide si tres números pueden formar un triángulo y de qué tipo es.\n",
        "def triangulo(a, b, c):\n",
        "    if a + b > c and a + c > b and b + c > a:\n",
        "        print(\"Los lados forman un triángulo.\")\n",
        "    else:\n",
        "        print(\"Los lados no forman un triángulo.\")\n",
        "\n",
        "a = int(input(\"Lado 1 \"))\n",
        "b = int(input(\"Lado 2 \"))\n",
        "c = int(input(\"Lado 3 \"))\n",
        "triangulo(a, b, c)\n"
      ],
      "metadata": {
        "id": "CmIOF2i6WHST"
      },
      "execution_count": null,
      "outputs": []
    },
    {
      "cell_type": "code",
      "source": [
        "# Ejercicio 16: Crea un programa que muestre la tabla de multiplicar de un número hasta el 10.\n",
        "def tabla(numero):\n",
        "\n",
        "    for i in range(1, 11):\n",
        "        print(numero, \"x\", i, \"=\", numero * i)\n",
        "\n",
        "numero = int(input(\"Ingresar un número: \"))\n",
        "tabla(numero)\n",
        "\n"
      ],
      "metadata": {
        "colab": {
          "base_uri": "https://localhost:8080/"
        },
        "id": "KVXrJy5TWymT",
        "outputId": "29f3f61a-7fb9-4938-97f1-bd615e08e10f"
      },
      "execution_count": null,
      "outputs": [
        {
          "output_type": "stream",
          "name": "stdout",
          "text": [
            "Digite un número: 6\n",
            "6 x 1 = 6\n",
            "6 x 2 = 12\n",
            "6 x 3 = 18\n",
            "6 x 4 = 24\n",
            "6 x 5 = 30\n",
            "6 x 6 = 36\n",
            "6 x 7 = 42\n",
            "6 x 8 = 48\n",
            "6 x 9 = 54\n",
            "6 x 10 = 60\n"
          ]
        }
      ]
    },
    {
      "cell_type": "code",
      "source": [
        "# Ejercicio 17: Escribe un programa que calcule la suma de números naturales hasta n.\n",
        "\n",
        "def naturales(n):\n",
        "\n",
        "    suma = 0\n",
        "    for i in range(1, n + 1):\n",
        "        suma += i\n",
        "    print(\"La suma de los números naturales es\", n, \"es:\", suma)\n",
        "n = int(input(\"Ingresar un número: \"))\n",
        "naturales(n)\n"
      ],
      "metadata": {
        "colab": {
          "base_uri": "https://localhost:8080/"
        },
        "id": "DQa4CGPOXwbx",
        "outputId": "42c37cf4-6947-4e5a-e395-1391e8061f23"
      },
      "execution_count": null,
      "outputs": [
        {
          "output_type": "stream",
          "name": "stdout",
          "text": [
            "Digite un número: 3\n",
            "La suma de los números naturales hasta 3 es: 6\n"
          ]
        }
      ]
    },
    {
      "cell_type": "code",
      "source": [
        "# Ejercicio 18: Desarrolla un programa que calcule el factorial de un número. Recuerda que el factorial de 0 es 1 y no existen factoriales negativos.\n",
        "def factorial(n):\n",
        "    if n < 0:\n",
        "        print(\"No existen factoriales negativos.\")\n",
        "        return\n",
        "\n",
        "    resultado = 1\n",
        "    for i in range(1, n + 1):\n",
        "        resultado *= i\n",
        "\n",
        "    print(\"El factorial de\", n, \"es:\", resultado)\n",
        "\n",
        "n = int(input(\"Digite un número: \"))\n",
        "factorial(n)\n"
      ],
      "metadata": {
        "id": "n-oAIYd9YT3m"
      },
      "execution_count": null,
      "outputs": []
    },
    {
      "cell_type": "code",
      "source": [
        "# Ejercicio 19: Crea un programa que muestre los primeros n números de la serie Fibonacci.\n",
        "\n",
        "def fibonacci(n):\n",
        "  a, b = 0, 1\n",
        "  for _ in range(n):\n",
        "        print(a, end=\" \")\n",
        "        a, b = b, a + b\n",
        "  print()\n",
        "n = int(input(\"Digite cuántos números de Fibonacci quiere ver: \"))\n",
        "fibonacci(n)\n"
      ],
      "metadata": {
        "id": "jyPn8zPWYbel"
      },
      "execution_count": null,
      "outputs": []
    },
    {
      "cell_type": "code",
      "source": [
        "# Ejercicio 20: Escribe un programa que adivine entre un conjunto de diez colores definidos por el usuario, con un máximo de 10 intentos.\n",
        "\n",
        "import random\n",
        "\n",
        "def adivina_color():\n",
        "    colores = input(\"Escribe 10 colores separados por comas: \").split(',')\n",
        "    color_correcto = random.choice(colores).strip()\n",
        "\n",
        "    for intento in range(1, 11):\n",
        "        adivinanza = input(\"Adivina un color: \").strip()\n",
        "\n",
        "        if adivinanza == color_correcto:\n",
        "            print(f\"¡Correcto! Lo lograste en {intento} intentos.\")\n",
        "            return\n",
        "        print(f\"Incorrecto, intento {intento} de 10.\")\n",
        "\n",
        "    print(f\"Se acabaron los intentos. El color era {color_correcto}.\")\n",
        "adivina_color()"
      ],
      "metadata": {
        "id": "7XlOAwOLZJrw"
      },
      "execution_count": null,
      "outputs": []
    }
  ]
}