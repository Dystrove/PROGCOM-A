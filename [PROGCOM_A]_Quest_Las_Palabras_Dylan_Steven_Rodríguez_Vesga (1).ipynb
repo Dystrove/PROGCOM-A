{
  "nbformat": 4,
  "nbformat_minor": 0,
  "metadata": {
    "colab": {
      "provenance": []
    },
    "kernelspec": {
      "name": "python3",
      "display_name": "Python 3"
    },
    "language_info": {
      "name": "python"
    }
  },
  "cells": [
    {
      "cell_type": "markdown",
      "source": [
        "Quest sobre las Palabras.\n",
        "\n",
        "---\n",
        "Dylan Steven Rodríguez Vesga (U00182007) - Programación de Computadores\n"
      ],
      "metadata": {
        "id": "LKIACjxMp5zA"
      }
    },
    {
      "cell_type": "code",
      "source": [
        "# False: Representa un valor falso en Python.\n",
        "print(5 > 10)"
      ],
      "metadata": {
        "id": "Vg4nviKCqOpg"
      },
      "execution_count": null,
      "outputs": []
    },
    {
      "cell_type": "code",
      "source": [
        "# None: Indica la ausencia de un valor o un valor nulo.\n",
        "\n",
        "x = None\n",
        "print(x)"
      ],
      "metadata": {
        "id": "Rh8Lzs0IqSrg"
      },
      "execution_count": null,
      "outputs": []
    },
    {
      "cell_type": "code",
      "source": [
        "# True: Representa un valor verdadero en Python.\n",
        "\n",
        "print(10 > 5)"
      ],
      "metadata": {
        "id": "Q_LI3bTUqb-h"
      },
      "execution_count": null,
      "outputs": []
    },
    {
      "cell_type": "code",
      "source": [
        "# and: Operador lógico que devuelve True si ambas condiciones son verdaderas.\n",
        "\n",
        "print(True and False)"
      ],
      "metadata": {
        "id": "0gi6Mjc5qgrI"
      },
      "execution_count": null,
      "outputs": []
    },
    {
      "cell_type": "code",
      "source": [
        "# as: Usado en importaciones para renombrar módulos.\n",
        "\n",
        "import numpy as np"
      ],
      "metadata": {
        "id": "jTTai4lPqgpA"
      },
      "execution_count": null,
      "outputs": []
    },
    {
      "cell_type": "code",
      "source": [
        "# assert: Verifica que una condición se cumpla, de lo contrario lanza un error.\n",
        "\n",
        "assert 2 + 2 == 4  # No genera error"
      ],
      "metadata": {
        "id": "V32DxLG-qgmw"
      },
      "execution_count": null,
      "outputs": []
    },
    {
      "cell_type": "code",
      "source": [
        "# break: Detiene un bucle.\n",
        "\n",
        "for i in range(5):\n",
        "    if i == 3:\n",
        "        break\n",
        "    print(i)  # 0, 1, 2"
      ],
      "metadata": {
        "id": "4YWzn2xcqgkJ"
      },
      "execution_count": null,
      "outputs": []
    },
    {
      "cell_type": "code",
      "source": [
        "# class: Define una nueva clase.\n",
        "\n",
        "class Perro:\n",
        "    def __init__(self, nombre):\n",
        "        self.nombre = nombre"
      ],
      "metadata": {
        "id": "16pNEHQpqghw"
      },
      "execution_count": null,
      "outputs": []
    },
    {
      "cell_type": "code",
      "source": [
        "# continue: Salta a la siguiente iteración del bucle sin ejecutar el código restante.\n",
        "\n",
        "for i in range(5):\n",
        "    if i == 2:\n",
        "        continue\n",
        "    print(i)"
      ],
      "metadata": {
        "id": "PiRqy1DYqgfI"
      },
      "execution_count": null,
      "outputs": []
    },
    {
      "cell_type": "code",
      "source": [
        "# def: Define una función.\n",
        "\n",
        "def saludo():\n",
        "    print(\"Hola\")"
      ],
      "metadata": {
        "id": "ZxzVJsnxqgcp"
      },
      "execution_count": null,
      "outputs": []
    },
    {
      "cell_type": "code",
      "source": [
        "# del: Elimina una variable u objeto.\n",
        "\n",
        "lista = [1, 2, 3]\n",
        "del lista[1]"
      ],
      "metadata": {
        "id": "leb3_R7JqgZx"
      },
      "execution_count": null,
      "outputs": []
    },
    {
      "cell_type": "code",
      "source": [
        "# elif: Agrega una condición extra en una estructura if.\n",
        "\n",
        "x = 10\n",
        "if x > 10:\n",
        "    print(\"Mayor\")\n",
        "elif x == 10:\n",
        "    print(\"Igual\")"
      ],
      "metadata": {
        "id": "5XajKfEWqgXB"
      },
      "execution_count": null,
      "outputs": []
    },
    {
      "cell_type": "code",
      "source": [
        "# else: Se ejecuta si las condiciones anteriores no se cumplen.\n",
        "\n",
        "if x > 10:\n",
        "    print(\"Mayor\")\n",
        "else:\n",
        "    print(\"No es mayor\")"
      ],
      "metadata": {
        "id": "ozbK19_3qgUR"
      },
      "execution_count": null,
      "outputs": []
    },
    {
      "cell_type": "code",
      "source": [
        "# except: Captura errores en un bloque try.\n",
        "\n",
        "try:\n",
        "    print(1 / 0)\n",
        "except ZeroDivisionError:\n",
        "    print(\"No puedes dividir por cero\")"
      ],
      "metadata": {
        "id": "LY53QR_LqgRp"
      },
      "execution_count": null,
      "outputs": []
    },
    {
      "cell_type": "code",
      "source": [
        "# finally: Se ejecuta siempre, sin importar si hay un error o no.\n",
        "\n",
        "try:\n",
        "    print(1 / 0)\n",
        "except ZeroDivisionError:\n",
        "    print(\"Error\")\n",
        "finally:\n",
        "    print(\"Este mensaje siempre aparece\")"
      ],
      "metadata": {
        "id": "THqBE61rqgPB"
      },
      "execution_count": null,
      "outputs": []
    },
    {
      "cell_type": "code",
      "source": [
        "# for: Bucle que itera sobre una secuencia.\n",
        "\n",
        "for i in range(3):\n",
        "    print(i)  # 0, 1, 2"
      ],
      "metadata": {
        "id": "uvaYvXrgqgMY"
      },
      "execution_count": null,
      "outputs": []
    },
    {
      "cell_type": "code",
      "source": [
        "# from: Importa elementos específicos de un módulo.\n",
        "\n",
        "from math import pi\n",
        "print(pi)  # 3.141592653589793"
      ],
      "metadata": {
        "id": "h_qUvtJqqgKA"
      },
      "execution_count": null,
      "outputs": []
    },
    {
      "cell_type": "code",
      "source": [
        "# global: Declara una variable como global dentro de una función.\n",
        "\n",
        "x = 5\n",
        "def cambiar():\n",
        "    global x\n",
        "    x = 10"
      ],
      "metadata": {
        "id": "GhwJvXgrqfww"
      },
      "execution_count": null,
      "outputs": []
    },
    {
      "cell_type": "code",
      "source": [
        "# if: Evalúa una condición.\n",
        "\n",
        "if 5 > 3:\n",
        "    print(\"Verdadero\")"
      ],
      "metadata": {
        "id": "bsSm4tKgrlYy"
      },
      "execution_count": null,
      "outputs": []
    },
    {
      "cell_type": "code",
      "source": [
        "# import: Importa un módulo.\n",
        "\n",
        "import math\n",
        "print(math.sqrt(16))  # 4.0"
      ],
      "metadata": {
        "id": "Cp_FdGmurlWy"
      },
      "execution_count": null,
      "outputs": []
    },
    {
      "cell_type": "code",
      "source": [
        "# in: Verifica si un elemento está en una lista o estructura.\n",
        "\n",
        "print(3 in [1, 2, 3])"
      ],
      "metadata": {
        "id": "beyVo5sSrlT7"
      },
      "execution_count": null,
      "outputs": []
    },
    {
      "cell_type": "code",
      "source": [
        "# is\n",
        "a = None\n",
        "print(a is None)"
      ],
      "metadata": {
        "id": "lKbNpkDkrlOq"
      },
      "execution_count": null,
      "outputs": []
    },
    {
      "cell_type": "code",
      "source": [
        "# lambda: Define una función anónima en una sola línea.\n",
        "\n",
        "cuadrado = lambda x: x**2\n",
        "print(cuadrado(4))"
      ],
      "metadata": {
        "id": "Yi0u4vJjrlMC"
      },
      "execution_count": null,
      "outputs": []
    },
    {
      "cell_type": "code",
      "source": [
        "# nonlocal: Modifica variables de un ámbito superior dentro de funciones anidadas.\n",
        "\n",
        "def externo():\n",
        "    x = \"Hola\"\n",
        "    def interno():\n",
        "        nonlocal x\n",
        "        x = \"Mundo\"\n",
        "    interno()\n",
        "    print(x)  # Mundo"
      ],
      "metadata": {
        "id": "siKX_m08rlJk"
      },
      "execution_count": null,
      "outputs": []
    },
    {
      "cell_type": "code",
      "source": [
        "# not: Operador lógico que invierte el valor de una expresión.\n",
        "\n",
        "print(not True)"
      ],
      "metadata": {
        "id": "E9g_WNU6rlGb"
      },
      "execution_count": null,
      "outputs": []
    },
    {
      "cell_type": "code",
      "source": [
        "# or: Operador lógico que devuelve True si al menos una condición es verdadera.\n",
        "\n",
        "print(True or False)"
      ],
      "metadata": {
        "id": "oGCCgBDFrlDC"
      },
      "execution_count": null,
      "outputs": []
    },
    {
      "cell_type": "code",
      "source": [
        "# pass: Se usa cuando un bloque de código es obligatorio pero no queremos ejecutarlo aún.\n",
        "\n",
        "def funcion():\n",
        "    pass"
      ],
      "metadata": {
        "id": "ziBbqd-Zrk9a"
      },
      "execution_count": null,
      "outputs": []
    },
    {
      "cell_type": "code",
      "source": [
        "# raise: Lanza una excepción manualmente.\n",
        "\n",
        "raise ValueError(\"Error de prueba\")"
      ],
      "metadata": {
        "colab": {
          "base_uri": "https://localhost:8080/",
          "height": 176
        },
        "id": "Wot-lQpprk6y",
        "outputId": "532150c3-c8ad-4e59-c7dd-ca03c87d69c2"
      },
      "execution_count": null,
      "outputs": [
        {
          "output_type": "error",
          "ename": "ValueError",
          "evalue": "Error de prueba",
          "traceback": [
            "\u001b[0;31m---------------------------------------------------------------------------\u001b[0m",
            "\u001b[0;31mValueError\u001b[0m                                Traceback (most recent call last)",
            "\u001b[0;32m<ipython-input-3-57449d719602>\u001b[0m in \u001b[0;36m<cell line: 0>\u001b[0;34m()\u001b[0m\n\u001b[1;32m      1\u001b[0m \u001b[0;31m# raise: Lanza una excepción manualmente.\u001b[0m\u001b[0;34m\u001b[0m\u001b[0;34m\u001b[0m\u001b[0m\n\u001b[1;32m      2\u001b[0m \u001b[0;34m\u001b[0m\u001b[0m\n\u001b[0;32m----> 3\u001b[0;31m \u001b[0;32mraise\u001b[0m \u001b[0mValueError\u001b[0m\u001b[0;34m(\u001b[0m\u001b[0;34m\"Error de prueba\"\u001b[0m\u001b[0;34m)\u001b[0m\u001b[0;34m\u001b[0m\u001b[0;34m\u001b[0m\u001b[0m\n\u001b[0m",
            "\u001b[0;31mValueError\u001b[0m: Error de prueba"
          ]
        }
      ]
    },
    {
      "cell_type": "code",
      "source": [
        "# return: Devuelve un valor desde una función.\n",
        "\n",
        "def suma(a, b):\n",
        "    return a + b"
      ],
      "metadata": {
        "id": "4WWl2lxLsSFr"
      },
      "execution_count": null,
      "outputs": []
    },
    {
      "cell_type": "code",
      "source": [
        "# try: Bloque de código que maneja excepciones.\n",
        "\n",
        "try:\n",
        "    print(1 / 0)\n",
        "except ZeroDivisionError:\n",
        "    print(\"Error\")"
      ],
      "metadata": {
        "id": "_QcTpX71sW7D"
      },
      "execution_count": null,
      "outputs": []
    },
    {
      "cell_type": "code",
      "source": [
        "# while: Bucle que se ejecuta mientras la condición sea verdadera.\n",
        "\n",
        "x = 0\n",
        "while x < 3:\n",
        "    print(x)\n",
        "    x += 1"
      ],
      "metadata": {
        "id": "Tdny3jAasWyj"
      },
      "execution_count": null,
      "outputs": []
    },
    {
      "cell_type": "code",
      "source": [
        "# with: Maneja archivos o recursos de manera segura.\n",
        "\n",
        "with open(\"archivo.txt\", \"w\") as file:\n",
        "    file.write(\"Hola\")"
      ],
      "metadata": {
        "id": "UV9D0RCqsWqV"
      },
      "execution_count": null,
      "outputs": []
    },
    {
      "cell_type": "code",
      "source": [
        "# case:  Se usa dentro de match para comparar valores.\n",
        "\n",
        "color = \"rojo\"\n",
        "match color:\n",
        "    case \"rojo\":\n",
        "        print(\"Es rojo\")\n",
        "    case \"azul\":\n",
        "        print(\"Es azul\")\n"
      ],
      "metadata": {
        "id": "tYBGA77N879I"
      },
      "execution_count": null,
      "outputs": []
    },
    {
      "cell_type": "code",
      "source": [
        "# assign:  \"Asignar\", significa darle un valor a una variable.\n",
        "\n",
        "x = 10  # x ahora vale 10\n",
        "print(x)"
      ],
      "metadata": {
        "id": "ADvmQHV89TGd"
      },
      "execution_count": null,
      "outputs": []
    },
    {
      "cell_type": "code",
      "source": [
        "# float: Representa números con decimales.\n",
        "\n",
        "decimal = float(\"5.5\")\n",
        "print(decimal + 1.5)"
      ],
      "metadata": {
        "id": "_9mP5CgT9dze"
      },
      "execution_count": null,
      "outputs": []
    },
    {
      "cell_type": "code",
      "source": [
        "# async: Se usa para definir funciones que trabajan en segundo plano sin bloquear el programa.\n",
        "\n",
        "import asyncio\n",
        "\n",
        "async def saludar():\n",
        "    print(\"Hola\")\n",
        "\n",
        "asyncio.run(saludar())"
      ],
      "metadata": {
        "id": "e8T0aI2f9pCq"
      },
      "execution_count": null,
      "outputs": []
    },
    {
      "cell_type": "code",
      "source": [
        "# map: Aplica una función a todos los elementos de un iterable.\n",
        "numeros = [1, 2, 3, 4, 5]\n",
        "resultado = list(map(lambda x: x * 2, numeros))\n",
        "print(resultado)"
      ],
      "metadata": {
        "id": "O00GxNorIeUm"
      },
      "execution_count": null,
      "outputs": []
    },
    {
      "cell_type": "code",
      "source": [
        "# max: Devuelve el valor máximo de un iterable.\n",
        "valores = [10, 35, 7, 98, 23]\n",
        "print(max(valores))"
      ],
      "metadata": {
        "id": "3JBGsWLsIj-b"
      },
      "execution_count": null,
      "outputs": []
    },
    {
      "cell_type": "code",
      "source": [
        "# min: Devuelve el valor mínimo de un iterable.\n",
        "valores = [10, 35, 7, 98, 23]\n",
        "print(min(valores))"
      ],
      "metadata": {
        "id": "ZTCJ9ltQIsEd"
      },
      "execution_count": null,
      "outputs": []
    },
    {
      "cell_type": "code",
      "source": [
        "# open: Abre un archivo para lectura o escritura.\n",
        "with open(\"archivo.txt\", \"w\") as archivo:\n",
        "    archivo.write(\"Hola, este es un archivo de prueba.\")"
      ],
      "metadata": {
        "id": "juB5HvOEIwvT"
      },
      "execution_count": null,
      "outputs": []
    },
    {
      "cell_type": "code",
      "source": [
        "# sorted: Devuelve una lista ordenada de los elementos de un iterable.\n",
        "numeros = [5, 3, 8, 1, 9]\n",
        "print(sorted(numeros))"
      ],
      "metadata": {
        "id": "OxpjM80JI2HT"
      },
      "execution_count": null,
      "outputs": []
    },
    {
      "cell_type": "code",
      "source": [
        "# sum: Devuelve la suma de los elementos de un iterable.\n",
        "numeros = [10, 20, 30, 40]\n",
        "print(sum(numeros))"
      ],
      "metadata": {
        "id": "bnoxLXJFI86F"
      },
      "execution_count": null,
      "outputs": []
    },
    {
      "cell_type": "code",
      "source": [
        "# zip: Combina múltiples iterables en un solo iterable de tuplas.\n",
        "nombres = [\"Juan\", \"María\", \"Pedro\"]\n",
        "edades = [25, 30, 22]\n",
        "for nombre, edad in zip(nombres, edades):\n",
        "    print(nombre, edad)"
      ],
      "metadata": {
        "id": "RGjqslOzJCeM"
      },
      "execution_count": null,
      "outputs": []
    },
    {
      "cell_type": "code",
      "source": [
        "# filter: Filtra los elementos de un iterable según una condición dada.\n",
        "numeros = [1, 2, 3, 4, 5, 6, 7, 8, 9, 10]\n",
        "pares = list(filter(lambda x: x % 2 == 0, numeros))\n",
        "print(pares)  # Salida: [2, 4, 6, 8, 10]"
      ],
      "metadata": {
        "id": "eXmqCHrOJJ7t"
      },
      "execution_count": null,
      "outputs": []
    }
  ]
}