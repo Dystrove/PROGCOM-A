{
  "nbformat": 4,
  "nbformat_minor": 0,
  "metadata": {
    "colab": {
      "provenance": []
    },
    "kernelspec": {
      "name": "python3",
      "display_name": "Python 3"
    },
    "language_info": {
      "name": "python"
    }
  },
  "cells": [
    {
      "cell_type": "markdown",
      "source": [
        "# Funciones lambda o anónimas\n",
        "\n",
        "- Declaran funciones pequeñas, sencillas y de acceso rápido.\n",
        "- Puede contener sólo **UNA** expresión, por lo que no son las más adecuadas para que funcione con instrucciones de flujo.\n",
        "- LAS FUNCIONES LAMBDA PUEDEN TENER N NÚMERO DE ARGUMENTOS PERO SOLO UNA EXPRESIÓN."
      ],
      "metadata": {
        "id": "y3JoioHD_ern"
      }
    },
    {
      "cell_type": "markdown",
      "source": [
        "Ejercicio 20: Escribe un programa que adivine entre un conjunto de diez colores definidos por el usuario, con un máximo de 10 intentos."
      ],
      "metadata": {
        "id": "X03gr7wlAJl-"
      }
    },
    {
      "cell_type": "code",
      "execution_count": 2,
      "metadata": {
        "colab": {
          "base_uri": "https://localhost:8080/"
        },
        "id": "CQuV7pFz8D9x",
        "outputId": "f03e16d1-3fd5-43b7-fe1b-9dbe01b6328b"
      },
      "outputs": [
        {
          "output_type": "stream",
          "name": "stdout",
          "text": [
            "Adivina el color: Azul\n",
            "Adivina el color: Rojo\n",
            "Adivina el color: Amarillo\n",
            "Adivina el color: Negro\n",
            "Adivina el color: Blanco\n",
            "Adivina el color: Naranja\n",
            "Adivina el color: Gris\n",
            "¡Correcto!\n"
          ]
        }
      ],
      "source": [
        "import random\n",
        "\n",
        "colores = [\"rojo\", \"azul\", \"verde\", \"amarillo\", \"negro\", \"blanco\", \"naranja\", \"morado\", \"gris\", \"rosa\"]\n",
        "colorsec = random.choice(colores)\n",
        "adivinar = lambda intento: intento.lower() == colorsec\n",
        "\n",
        "for _ in range(10):\n",
        "    if adivinar(input(\"Adivina el color: \")):\n",
        "        print(\"¡Correcto!\")\n",
        "        break\n",
        "else:\n",
        "    print(f\"Perdiste. Era {colorsec}.\")"
      ]
    },
    {
      "cell_type": "markdown",
      "source": [
        "Ejercicio 21: Desarrolla un programa que muestre los números pares del 1 al 100."
      ],
      "metadata": {
        "id": "9q-5_sQcARsu"
      }
    },
    {
      "cell_type": "code",
      "source": [
        "pares = lambda n: [x for x in range(1, n+1) if x % 2 == 0]\n",
        "print(pares(100))"
      ],
      "metadata": {
        "colab": {
          "base_uri": "https://localhost:8080/"
        },
        "id": "-gQ8TlJX9dIi",
        "outputId": "d67a4037-f748-4072-f0a4-aee456db5c16"
      },
      "execution_count": 3,
      "outputs": [
        {
          "output_type": "stream",
          "name": "stdout",
          "text": [
            "[2, 4, 6, 8, 10, 12, 14, 16, 18, 20, 22, 24, 26, 28, 30, 32, 34, 36, 38, 40, 42, 44, 46, 48, 50, 52, 54, 56, 58, 60, 62, 64, 66, 68, 70, 72, 74, 76, 78, 80, 82, 84, 86, 88, 90, 92, 94, 96, 98, 100]\n"
          ]
        }
      ]
    },
    {
      "cell_type": "markdown",
      "source": [
        "Ejercicio 22: Crea un programa que calcule la suma de los dígitos de un número."
      ],
      "metadata": {
        "id": "byW7cHhbA-G_"
      }
    },
    {
      "cell_type": "code",
      "source": [
        "suma = lambda n: sum(int(d) for d in str(n))\n",
        "n = int(input(\"Ingrese un número: \"))\n",
        "print(\"Suma de los dígitos:\", suma(n))"
      ],
      "metadata": {
        "colab": {
          "base_uri": "https://localhost:8080/"
        },
        "id": "L4oAQy4u9fpa",
        "outputId": "97116f6e-c609-4c5d-ba32-96bc6d1975b5"
      },
      "execution_count": 4,
      "outputs": [
        {
          "output_type": "stream",
          "name": "stdout",
          "text": [
            "Ingrese un número: 4\n",
            "Suma de los dígitos: 4\n"
          ]
        }
      ]
    },
    {
      "cell_type": "markdown",
      "source": [
        "Ejercicio 23: Escribe un programa que determine si un número es primo."
      ],
      "metadata": {
        "id": "epmGTNs2BA-_"
      }
    },
    {
      "cell_type": "code",
      "source": [
        "primo = lambda n: all(n % i != 0 for i in range(2, int(n**0.5) + 1)) and n > 1\n",
        "n = int(input(\"Ingrese un número: \"))\n",
        "print(\"Es primo\" if primo(n) else \"No es primo\")"
      ],
      "metadata": {
        "colab": {
          "base_uri": "https://localhost:8080/"
        },
        "id": "7vRKdzfZ9oqa",
        "outputId": "486bb2ee-3085-484b-ccea-ed6e4dcc4fc6"
      },
      "execution_count": 5,
      "outputs": [
        {
          "output_type": "stream",
          "name": "stdout",
          "text": [
            "Ingrese un número: 1\n",
            "No es primo\n"
          ]
        }
      ]
    },
    {
      "cell_type": "markdown",
      "source": [
        "Ejercicio 24: Desarrolla un programa que muestre el patrón de un triángulo con asteriscos."
      ],
      "metadata": {
        "id": "OpWCcEHwBBW_"
      }
    },
    {
      "cell_type": "code",
      "source": [
        "triangulo = lambda n: [print('*' * i) for i in range(1, n + 1)]\n",
        "n = int(input(\"Ingrese la altura del triángulo: \"))\n",
        "triangulo(n)"
      ],
      "metadata": {
        "id": "5joztzF1BaVI"
      },
      "execution_count": null,
      "outputs": []
    },
    {
      "cell_type": "markdown",
      "source": [
        "Ejercicio 25: Crea un programa que calcule la potencia de un número sin usar el operador **."
      ],
      "metadata": {
        "id": "A56QBPP-BOqg"
      }
    },
    {
      "cell_type": "code",
      "source": [
        "base = int(input(\"Ingrese la base: \"))\n",
        "exponente = int(input(\"Ingrese el exponente: \"))\n",
        "potencia = lambda b, e: (1 if e == 0 else (b * potencia(b, e - 1)) if e > 0 else 1 / potencia(b, -e))\n",
        "\n",
        "print(f\"{base}^{exponente} = {potencia(base, exponente)}\")"
      ],
      "metadata": {
        "colab": {
          "base_uri": "https://localhost:8080/"
        },
        "id": "lLvMsaWw9tWa",
        "outputId": "ab7681c4-6053-4c0c-cb29-0bd55b867658"
      },
      "execution_count": 7,
      "outputs": [
        {
          "output_type": "stream",
          "name": "stdout",
          "text": [
            "Ingrese la base: 3\n",
            "Ingrese el exponente: 2\n",
            "3^2 = 9\n"
          ]
        }
      ]
    }
  ]
}