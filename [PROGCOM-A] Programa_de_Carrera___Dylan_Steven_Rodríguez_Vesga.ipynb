{
  "nbformat": 4,
  "nbformat_minor": 0,
  "metadata": {
    "colab": {
      "provenance": []
    },
    "kernelspec": {
      "name": "python3",
      "display_name": "Python 3"
    },
    "language_info": {
      "name": "python"
    }
  },
  "cells": [
    {
      "cell_type": "markdown",
      "source": [
        "# GQ3: Programa de Carrera\n",
        "\n",
        "`Ejercicio:` Programa para detectar anemia con *funciones lambda*.\n",
        "\n",
        "\n",
        "**Dylan Steven Rodríguez Vesga - (U00182007)**"
      ],
      "metadata": {
        "id": "Q-bRiCcBcv_Q"
      }
    },
    {
      "cell_type": "code",
      "execution_count": 5,
      "metadata": {
        "id": "JgGpUfIwlnVD",
        "colab": {
          "base_uri": "https://localhost:8080/"
        },
        "outputId": "a91b6934-fa43-4724-8f1a-45a2e1763a9b"
      },
      "outputs": [
        {
          "output_type": "stream",
          "name": "stdout",
          "text": [
            "Ingrese la edad del paciente: 20\n",
            "Ingrese el género del paciente (H/M): Hombre\n",
            "Ingrese el nivel de hemoglobina (g/dl): 10\n",
            "Tiene anemia\n"
          ]
        }
      ],
      "source": [
        "def detectar_anemia(edad, genero, hemoglobina):\n",
        "# Para evaluar anemia según edad y género\n",
        "    anemia = lambda e, g, h: (h < 13 if g == \"H\" else h < 12) if e >= 12 else h < 11\n",
        "\n",
        "    return \"Tiene anemia\" if anemia(edad, genero, hemoglobina) else \"No tiene anemia\"\n",
        "\n",
        "# Entrada de los datos\n",
        "edad = int(input(\"Ingrese la edad del paciente: \"))\n",
        "genero = input(\"Ingrese el género del paciente (H/M): \").strip().upper()\n",
        "hemoglobina = float(input(\"Ingrese el nivel de hemoglobina (g/dl): \")) #Gramos y decilitros\n",
        "\n",
        "# Evaluación y resultado\n",
        "resultado = detectar_anemia(edad, genero, hemoglobina)\n",
        "print(resultado)\n"
      ]
    }
  ]
}