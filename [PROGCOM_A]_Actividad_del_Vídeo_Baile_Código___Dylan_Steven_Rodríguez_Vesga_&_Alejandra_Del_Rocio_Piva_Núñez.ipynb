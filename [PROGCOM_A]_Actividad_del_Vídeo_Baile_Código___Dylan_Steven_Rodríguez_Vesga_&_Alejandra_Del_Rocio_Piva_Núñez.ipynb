{
  "nbformat": 4,
  "nbformat_minor": 0,
  "metadata": {
    "colab": {
      "provenance": []
    },
    "kernelspec": {
      "name": "python3",
      "display_name": "Python 3"
    },
    "language_info": {
      "name": "python"
    }
  },
  "cells": [
    {
      "cell_type": "markdown",
      "source": [
        "Alejandra Piva"
      ],
      "metadata": {
        "id": "myJvAQFDWq7v"
      }
    },
    {
      "cell_type": "code",
      "execution_count": null,
      "metadata": {
        "id": "4rqtdFJzVFPq"
      },
      "outputs": [],
      "source": [
        "def B(k, a):\n",
        "    print(f\"Brazos ({k},{a})\")\n",
        "    for _ in range(k):\n",
        "        print(\"Mover brazos D-I\")\n",
        "\n",
        "def A():\n",
        "    print(\"Aplauso (1,1)\")\n",
        "    print(\"Aplauso\")\n",
        "\n",
        "def S(k, a):\n",
        "    print(f\"Saltos ({k},{a})\")\n",
        "    for _ in range(k):\n",
        "        print(\"Salto\")\n",
        "\n",
        "def E(k, a):\n",
        "    print(f\"Extender brazos abajo ({k},{a})\")\n",
        "    for _ in range(k):\n",
        "        print(\"Extender brazos abajo\")\n",
        "\n",
        "def R(lado, k, a):\n",
        "    print(f\"Sube {lado[0]}, baja {lado[1]} ({k},{a})\")\n",
        "    for _ in range(k):\n",
        "        print(f\"Sube {lado[0]}, baja {lado[1]}\")\n",
        "\n",
        "def V():\n",
        "    print(\"Vistas (2,1)\")\n",
        "    print(\"Vista brazo D\")\n",
        "    print(\"Vista brazo I\")\n",
        "\n",
        "def D(k, a):\n",
        "    print(f\"Sacudidas ({k},{a})\")\n",
        "    for _ in range(k):\n",
        "        print(\"Sacudir brazos adelante\")\n",
        "\n",
        "def M(m):\n",
        "    print(f\"Escalera ({m[0]},{m[1]})\")\n",
        "    print(f\"Escalera mano D {m[0]} veces\")\n",
        "    print(f\"Escalera mano I {m[1]} vez\")\n",
        "\n",
        "def P():\n",
        "    print(\"Pose (1,1)\")\n",
        "    print(\"Pose final\")\n",
        "\n",
        "def F():\n",
        "    print(\"Bailecito final (1,1)\")\n",
        "    print(\"Bailecito final\")\n",
        "\n",
        "\n",
        "\n"
      ]
    },
    {
      "cell_type": "code",
      "source": [
        "b = (4, 1)\n",
        "s = (2, 1)\n",
        "e = (3, 1)\n",
        "r = (3, 1)\n",
        "d = (3, 1)\n",
        "m = (2, 1)"
      ],
      "metadata": {
        "id": "t2-jMTkGWpz_"
      },
      "execution_count": null,
      "outputs": []
    },
    {
      "cell_type": "code",
      "source": [],
      "metadata": {
        "id": "0qNvvCmgVF8t"
      },
      "execution_count": null,
      "outputs": []
    }
  ]
}