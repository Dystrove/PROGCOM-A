{
  "nbformat": 4,
  "nbformat_minor": 0,
  "metadata": {
    "colab": {
      "provenance": []
    },
    "kernelspec": {
      "name": "python3",
      "display_name": "Python 3"
    },
    "language_info": {
      "name": "python"
    }
  },
  "cells": [
    {
      "cell_type": "markdown",
      "source": [
        "## ❗ Estructura if\n",
        "if (condición): la condición debe ser verdadera si se desea que pase algo\n",
        "if TRUE:\n",
        "\n",
        "## ❗ Estructura ternaria del if\n",
        "\n",
        "Se cumple la condición **if** condición **else** si no se cumple la condición"
      ],
      "metadata": {
        "id": "VQKSoiUmCDwC"
      }
    },
    {
      "cell_type": "code",
      "execution_count": null,
      "metadata": {
        "id": "5h6REDXkfAvG"
      },
      "outputs": [],
      "source": [
        "# Ejercicio 2: Conversión de Celsius a Fahrenheit\n",
        "c= float(input('Ingresar la temperatura en grados Celsius: '))\n",
        "f = (c * 9/5) + 32\n",
        "print(f'\\nLa temperatura en Fahrenheit es: {f}')"
      ]
    },
    {
      "cell_type": "code",
      "source": [
        "# Ejercicio 3: Cálculo del promedio de tres números\n",
        "n1 = float(input(\"Ingresar el primer número: \"))\n",
        "n2 = float(input(\"Ingresar el segundo número: \"))\n",
        "n3 = float(input(\"Ingresar el tercer número: \"))\n",
        "promedio = (n1 + n2 + n3) / 3\n",
        "print(f\"\\nEl promedio de los tres números es: {promedio}\\n\")"
      ],
      "metadata": {
        "id": "5mhHpVuJyj8Z",
        "colab": {
          "base_uri": "https://localhost:8080/"
        },
        "outputId": "509897df-753f-422d-e903-5fb6d6f9a3e9"
      },
      "execution_count": null,
      "outputs": [
        {
          "output_type": "stream",
          "name": "stdout",
          "text": [
            "Ingresa el primer número: 5\n",
            "Ingresa el segundo número: 2\n",
            "Ingresa el tercer número: 4\n",
            "\n",
            "El promedio de los tres números es: 3.6666666666666665\n",
            "\n"
          ]
        }
      ]
    },
    {
      "cell_type": "code",
      "source": [
        "# Ejercicio 4: Perímetro y área de un círculo\n",
        "radio=float(input(\"ingrese el radio del círculo:\"))\n",
        "print(f\"\\nEl perímetro del círculo es: {2*3.1416*radio}\\n\")\n",
        "print(f\"\\nEl área del círculo es: {3.1416*radio*2}\\n\")"
      ],
      "metadata": {
        "id": "u28Fqv-KfG0t",
        "colab": {
          "base_uri": "https://localhost:8080/"
        },
        "outputId": "20926483-67fc-443b-e385-fde36fd1e459"
      },
      "execution_count": 23,
      "outputs": [
        {
          "output_type": "stream",
          "name": "stdout",
          "text": [
            "ingrese el radio del círculo:20\n",
            "\n",
            "El perímetro del círculo es: 125.664\n",
            "\n",
            "\n",
            "El área del círculo es: 125.664\n",
            "\n"
          ]
        }
      ]
    },
    {
      "cell_type": "code",
      "source": [
        "# Ejercicio 5: Crea un programa que resuelva una ecuación cuadrática (ax² + bx + c = 0) pidiendo los valores de a, b y c.\n",
        "a=float(input(\"Ingresar el valor de a: \"))\n",
        "b=float(input(\"Ingresar el valor de b: \"))\n",
        "c=float(input(\"Ingresar el valor de c: \"))\n",
        "print(f\"\\nla ecuación es: {a}x² + {b}x + {c} = 0\\n\")\n",
        "print(f\"\\nLa solución es: {(-b+(b*2-4*a*c)**1/2)/(2*a)} y {(-b-(b*2-4*a*c)*1/2)/(2*a)}\\n\")"
      ],
      "metadata": {
        "colab": {
          "base_uri": "https://localhost:8080/"
        },
        "id": "asDQb_4vC9yr",
        "outputId": "c607ba9d-0093-4fc1-b425-3fe00fb35172"
      },
      "execution_count": 21,
      "outputs": [
        {
          "output_type": "stream",
          "name": "stdout",
          "text": [
            "Ingresar el valor de a: 5\n",
            "Ingresar el valor de b: 4\n",
            "Ingresar el valor de c: 3\n",
            "\n",
            "la ecuación es: 5.0x² + 4.0x + 3.0 = 0\n",
            "\n",
            "\n",
            "La solución es: -3.0 y 2.2\n",
            "\n"
          ]
        }
      ]
    },
    {
      "cell_type": "code",
      "source": [
        "# Ejercicio 6: Desarrolla un programa que determine si un número es par o impar. - (aplicando \"if\" normal)\n",
        "N = 1\n",
        "while N!=0:\n",
        "  N=int(input(' Escribir el número: '))\n",
        "  if N!=0:\n",
        "    if N%2 == 0:\n",
        "      print(' El número es par ')\n",
        "    else:\n",
        "      print(' El número es impar ')"
      ],
      "metadata": {
        "id": "_xqejYWwEW01"
      },
      "execution_count": null,
      "outputs": []
    },
    {
      "cell_type": "code",
      "source": [
        "# Ejercicio 6(2): Desarrolla un programa que determine si un número es par o impar. - (aplicando \"if\" ternario)\n",
        "N= int(input(\"ingrese un número:\"))\n",
        "print(f\"{N} es par\") if N% 2==0 else (f\"{N} es impar\")"
      ],
      "metadata": {
        "id": "3UyJZFGFEgNv"
      },
      "execution_count": null,
      "outputs": []
    },
    {
      "cell_type": "code",
      "source": [
        "\n",
        "# Ejercicio 7: Determinar si un año es bisiesto - (aplicando \"if\" normal)\n",
        "año=int(input(\"Ingresar un año:\"))\n",
        "if año %4==0 and año %100!=0:\n",
        "  print(f\"{año} es bisiesto\")\n",
        "else:\n",
        "  print(f\"{año} no es bisiesto\")"
      ],
      "metadata": {
        "id": "zNO5zwszSOoo",
        "colab": {
          "base_uri": "https://localhost:8080/"
        },
        "outputId": "dfb9d485-631c-46ab-c328-2e699845c4f6"
      },
      "execution_count": null,
      "outputs": [
        {
          "output_type": "stream",
          "name": "stdout",
          "text": [
            "ingrese un año:2020\n",
            "2020 es bisiesto\n"
          ]
        }
      ]
    },
    {
      "cell_type": "code",
      "source": [
        "# Ejercicio 7(2): Determinar si un año es bisiesto - (aplicando \"if\" ternario)\n",
        "año = int(input(\"Ingresa un año: \"))\n",
        "print(\"\\nEs bisiesto\\n\") if (año % 4 == 0 and año % 100 != 0) or (año % 400 == 0) else print(\"\\nNo es bisiesto\\n\")"
      ],
      "metadata": {
        "id": "acg2LU5lSrMW"
      },
      "execution_count": null,
      "outputs": []
    },
    {
      "cell_type": "code",
      "source": [
        "# Ejercicio 8(2): Determinar si una persona es de tercera edad - (aplicando \"if\" normal)\n",
        "nombre = input(\"Ingresa tu nombre: \")\n",
        "edad = int(input(\"Ingresa tu edad: \"))\n",
        "if edad >= 70:\n",
        "    print(f\"{nombre}, tienes prioridad en la fila\")\n",
        "else:\n",
        "    print(f\"{nombre}, no tienes prioridad en la fila\")"
      ],
      "metadata": {
        "id": "0cLZwNloSw6Y"
      },
      "execution_count": null,
      "outputs": []
    },
    {
      "cell_type": "code",
      "source": [
        "\n",
        "# Ejercicio 8(2): Determinar si una persona es de tercera edad - (aplicando \"if\" ternario)\n",
        "nombre = input(\"Ingresa tu nombre: \")\n",
        "edad = int(input(\"Ingresa tu edad: \"))\n",
        "print(f\"\\n{nombre}, tienes prioridad en la fila\\n\") if edad >= 70 else print(f\"\\n{nombre}, no tienes prioridad en la fila\\n\")"
      ],
      "metadata": {
        "id": "OBUPcr_uS_nG"
      },
      "execution_count": null,
      "outputs": []
    },
    {
      "cell_type": "code",
      "source": [
        "# Ejercicio 9: Comparar tres números y mostrar el mayor - (aplicando \"if\" normal)\n",
        "n1 = float(input(\"Ingresa el primer número: \"))\n",
        "n2 = float(input(\"Ingresa el segundo número: \"))\n",
        "n3 = float(input(\"Ingresa el tercer número: \"))\n",
        "if n1 > n2 and n1 > n3:\n",
        "    print(f\"\\nEl número mayor es: {n1}\\n\")\n",
        "else:\n",
        "    if n2 > n3:\n",
        "        print(f\"\\nEl número mayor es: {n2}\\n\")\n",
        "    else:\n",
        "        print(f\"\\nEl número mayor es: {n3}\\n\")\n"
      ],
      "metadata": {
        "id": "WJKKi2mqTL3O"
      },
      "execution_count": null,
      "outputs": []
    },
    {
      "cell_type": "code",
      "source": [
        "# Ejercicio 9(2): Comparar tres números y mostrar el mayor - (aplicando \"if\" ternario)\n",
        "n1 = float(input(\"Ingresa el primer número: \"))\n",
        "n2 = float(input(\"Ingresa el segundo número: \"))\n",
        "n3 = float(input(\"Ingresa el tercer número: \"))\n",
        "print(f\"El número mayor es: {n1}\") if n1 > n2 and n1 > n3 else print(f\"El número mayor es: {n2}\") if n2 > n3 else print(f\"El número mayor es: {n3}\")"
      ],
      "metadata": {
        "id": "TPTiIvdAAlwD",
        "colab": {
          "base_uri": "https://localhost:8080/"
        },
        "outputId": "7d90d1ca-1d40-411d-cfe0-aac96f2decbe"
      },
      "execution_count": null,
      "outputs": [
        {
          "output_type": "stream",
          "name": "stdout",
          "text": [
            "Ingresa el primer número: 4\n",
            "Ingresa el segundo número: 12\n",
            "Ingresa el tercer número: 8\n",
            "El número mayor es: 12.0\n"
          ]
        }
      ]
    },
    {
      "cell_type": "code",
      "source": [
        "# Ejercicio 10: Determinar el tipo de triángulo - (aplicando \"if\" normal)\n",
        "a = float(input(\"Ingresa el primer lado: \"))\n",
        "b = float(input(\"Ingresa el segundo lado: \"))\n",
        "c = float(input(\"Ingresa el tercer lado: \"))\n",
        "if a == b and b == c:\n",
        "    print(\"Equilátero\")\n",
        "else:\n",
        "    if a == b or a == c or b == c:\n",
        "        print(\"Isósceles\")\n",
        "    else:\n",
        "        print(\"Escaleno\")\n"
      ],
      "metadata": {
        "colab": {
          "base_uri": "https://localhost:8080/"
        },
        "id": "2JxRV3l7Tr3m",
        "outputId": "c98523aa-514b-4930-be09-5436a1d99140"
      },
      "execution_count": null,
      "outputs": [
        {
          "output_type": "stream",
          "name": "stdout",
          "text": [
            "Ingresa el primer lado: 45\n",
            "Ingresa el segundo lado: 56\n",
            "Ingresa el tercer lado: 45\n",
            "\n",
            "Isósceles\n",
            "\n"
          ]
        }
      ]
    },
    {
      "cell_type": "code",
      "source": [
        "\n",
        "# Ejercicio 10(2): Determinar el tipo de triángulo - (aplicando \"if\" ternario)\n",
        "a = float(input(\"Ingresa el primer lado: \"))\n",
        "b = float(input(\"Ingresa el segundo lado: \"))\n",
        "c = float(input(\"Ingresa el tercer lado: \"))\n",
        "print(\"Equilátero\") if a == b and b == c else print(\"Isósceles\") if a == b or a == c or b == c else print(\"Escaleno\")\n"
      ],
      "metadata": {
        "id": "it_aR_QjSmDL"
      },
      "execution_count": null,
      "outputs": []
    }
  ]
}